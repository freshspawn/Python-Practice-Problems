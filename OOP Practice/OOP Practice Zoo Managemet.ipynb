{
 "cells": [
  {
   "cell_type": "markdown",
   "metadata": {},
   "source": [
    "### Combined Exercise\n",
    "Zoo Management: Create a base class Animal that contains a static method for general info about animals. Use inheritance to create specific animal classes like Mammal, Bird, etc. Each should override a method unique_trait(). Create an abstract class Aquatic that inherits from Animal, and contains an abstract method swim. Create classes like Fish and Whale that inherit from Aquatic and implement the abstract method."
   ]
  },
  {
   "cell_type": "code",
   "execution_count": 4,
   "metadata": {},
   "outputs": [],
   "source": [
    "#Import to formally define abstract base class\n",
    "from abc import ABC, abstractmethod \n",
    "\n",
    "#ABC denotes this is an abstract base class formally\n",
    "class Animal(ABC):\n",
    "    @staticmethod\n",
    "    def general_info():\n",
    "        print(\"Animals are multicellular, which means they are made up of multiple cells organized into specialized tissues and organs.\")\n",
    "        print(\"Most animals are heterotrophic, which means they obtain their energy and nutrients by consuming other organisms.\")\n",
    "        print(\"The animal kingdom is incredibly diverse, comprising millions of species.\")\n",
    "\n",
    "\n",
    "    @abstractmethod\n",
    "    def unique_trait():\n",
    "        pass\n",
    "\n",
    "\n",
    "\n",
    "class Mammal(Animal):\n",
    "\n",
    "    @staticmethod\n",
    "    def unique_trait():\n",
    "        print(\"Has hair/fur\")\n",
    "\n",
    "\n",
    "class Bird(Animal):\n",
    "\n",
    "    @staticmethod\n",
    "    def unique_trait():\n",
    "        print(\"Can fly\")\n",
    "\n",
    "\n",
    "class Aquatic(Animal):\n",
    "\n",
    "    @staticmethod\n",
    "    def unique_trait():\n",
    "        print(\"Has Gills\")\n",
    "\n",
    "    @abstractmethod\n",
    "    def swim():\n",
    "        pass\n",
    "\n",
    "\n",
    "class Fish(Aquatic):\n",
    "    @staticmethod\n",
    "    def swim():\n",
    "        print(\"Fish is swimming\")\n",
    "\n",
    "\n",
    "\n",
    "class Whale(Aquatic):\n",
    "    @staticmethod\n",
    "    def swim():\n",
    "        print(\"Whale is swimming\")\n",
    "\n"
   ]
  },
  {
   "cell_type": "code",
   "execution_count": 8,
   "metadata": {},
   "outputs": [
    {
     "name": "stdout",
     "output_type": "stream",
     "text": [
      "Animals are multicellular, which means they are made up of multiple cells organized into specialized tissues and organs.\n",
      "Most animals are heterotrophic, which means they obtain their energy and nutrients by consuming other organisms.\n",
      "The animal kingdom is incredibly diverse, comprising millions of species.\n"
     ]
    }
   ],
   "source": [
    "Animal.general_info()\n",
    "\n",
    "\n"
   ]
  },
  {
   "cell_type": "code",
   "execution_count": 10,
   "metadata": {},
   "outputs": [
    {
     "ename": "TypeError",
     "evalue": "Can't instantiate abstract class Animal with abstract method unique_trait",
     "output_type": "error",
     "traceback": [
      "\u001b[1;31m---------------------------------------------------------------------------\u001b[0m",
      "\u001b[1;31mTypeError\u001b[0m                                 Traceback (most recent call last)",
      "\u001b[1;32mc:\\Users\\abend\\OneDrive - University of California, Davis\\Python Projects\\Python Coding Exercises\\OOP Practice\\OOP Practice Zoo Managemet.ipynb Cell 4\u001b[0m line \u001b[0;36m1\n\u001b[1;32m----> <a href='vscode-notebook-cell:/c%3A/Users/abend/OneDrive%20-%20University%20of%20California%2C%20Davis/Python%20Projects/Python%20Coding%20Exercises/OOP%20Practice/OOP%20Practice%20Zoo%20Managemet.ipynb#W3sZmlsZQ%3D%3D?line=0'>1</a>\u001b[0m animal1 \u001b[39m=\u001b[39m Animal()\n",
      "\u001b[1;31mTypeError\u001b[0m: Can't instantiate abstract class Animal with abstract method unique_trait"
     ]
    }
   ],
   "source": [
    "#Show that we can instantiate an object from Abstract Class\n",
    "\n",
    "animal1 = Animal()"
   ]
  },
  {
   "cell_type": "code",
   "execution_count": 16,
   "metadata": {},
   "outputs": [
    {
     "name": "stdout",
     "output_type": "stream",
     "text": [
      "Has hair/fur\n",
      "Animals are multicellular, which means they are made up of multiple cells organized into specialized tissues and organs.\n",
      "Most animals are heterotrophic, which means they obtain their energy and nutrients by consuming other organisms.\n",
      "The animal kingdom is incredibly diverse, comprising millions of species.\n"
     ]
    }
   ],
   "source": [
    "new_mammal = Mammal()\n",
    "new_mammal.unique_trait()\n",
    "new_mammal.general_info()"
   ]
  },
  {
   "cell_type": "code",
   "execution_count": 15,
   "metadata": {},
   "outputs": [
    {
     "name": "stdout",
     "output_type": "stream",
     "text": [
      "Can fly\n",
      "Animals are multicellular, which means they are made up of multiple cells organized into specialized tissues and organs.\n",
      "Most animals are heterotrophic, which means they obtain their energy and nutrients by consuming other organisms.\n",
      "The animal kingdom is incredibly diverse, comprising millions of species.\n"
     ]
    }
   ],
   "source": [
    "new_bird = Bird()\n",
    "new_bird.unique_trait()\n",
    "new_bird.general_info()"
   ]
  },
  {
   "cell_type": "code",
   "execution_count": 22,
   "metadata": {},
   "outputs": [
    {
     "ename": "TypeError",
     "evalue": "Can't instantiate abstract class Aquatic with abstract method swim",
     "output_type": "error",
     "traceback": [
      "\u001b[1;31m---------------------------------------------------------------------------\u001b[0m",
      "\u001b[1;31mTypeError\u001b[0m                                 Traceback (most recent call last)",
      "\u001b[1;32mc:\\Users\\abend\\OneDrive - University of California, Davis\\Python Projects\\Python Coding Exercises\\OOP Practice\\OOP Practice Zoo Managemet.ipynb Cell 7\u001b[0m line \u001b[0;36m1\n\u001b[1;32m----> <a href='vscode-notebook-cell:/c%3A/Users/abend/OneDrive%20-%20University%20of%20California%2C%20Davis/Python%20Projects/Python%20Coding%20Exercises/OOP%20Practice/OOP%20Practice%20Zoo%20Managemet.ipynb#W6sZmlsZQ%3D%3D?line=0'>1</a>\u001b[0m new_aquatic \u001b[39m=\u001b[39m Aquatic()\n\u001b[0;32m      <a href='vscode-notebook-cell:/c%3A/Users/abend/OneDrive%20-%20University%20of%20California%2C%20Davis/Python%20Projects/Python%20Coding%20Exercises/OOP%20Practice/OOP%20Practice%20Zoo%20Managemet.ipynb#W6sZmlsZQ%3D%3D?line=1'>2</a>\u001b[0m Aquatic\u001b[39m.\u001b[39mgeneral_info()\n",
      "\u001b[1;31mTypeError\u001b[0m: Can't instantiate abstract class Aquatic with abstract method swim"
     ]
    }
   ],
   "source": [
    "new_aquatic = Aquatic()\n"
   ]
  },
  {
   "cell_type": "code",
   "execution_count": 23,
   "metadata": {},
   "outputs": [
    {
     "name": "stdout",
     "output_type": "stream",
     "text": [
      "Animals are multicellular, which means they are made up of multiple cells organized into specialized tissues and organs.\n",
      "Most animals are heterotrophic, which means they obtain their energy and nutrients by consuming other organisms.\n",
      "The animal kingdom is incredibly diverse, comprising millions of species.\n"
     ]
    }
   ],
   "source": [
    "Aquatic.general_info()"
   ]
  },
  {
   "cell_type": "code",
   "execution_count": 20,
   "metadata": {},
   "outputs": [
    {
     "name": "stdout",
     "output_type": "stream",
     "text": [
      "Fish is swimming\n"
     ]
    }
   ],
   "source": [
    "new_fish = Fish()\n",
    "new_fish.swim()"
   ]
  },
  {
   "cell_type": "code",
   "execution_count": 21,
   "metadata": {},
   "outputs": [
    {
     "name": "stdout",
     "output_type": "stream",
     "text": [
      "Whale is swimming\n"
     ]
    }
   ],
   "source": [
    "new_whale = Whale()\n",
    "new_whale.swim()"
   ]
  }
 ],
 "metadata": {
  "kernelspec": {
   "display_name": "base",
   "language": "python",
   "name": "python3"
  },
  "language_info": {
   "codemirror_mode": {
    "name": "ipython",
    "version": 3
   },
   "file_extension": ".py",
   "mimetype": "text/x-python",
   "name": "python",
   "nbconvert_exporter": "python",
   "pygments_lexer": "ipython3",
   "version": "3.11.4"
  },
  "orig_nbformat": 4
 },
 "nbformat": 4,
 "nbformat_minor": 2
}
