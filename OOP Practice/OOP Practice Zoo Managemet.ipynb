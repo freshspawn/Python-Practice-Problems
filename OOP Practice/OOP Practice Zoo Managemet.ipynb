{
 "cells": [
  {
   "cell_type": "markdown",
   "metadata": {},
   "source": [
    "### Combined Exercise\n",
    "Zoo Management: Create a base class Animal that contains a static method for general info about animals. Use inheritance to create specific animal classes like Mammal, Bird, etc. Each should override a method unique_trait(). Create an abstract class Aquatic that inherits from Animal, and contains an abstract method swim. Create classes like Fish and Whale that inherit from Aquatic and implement the abstract method."
   ]
  }
 ],
 "metadata": {
  "language_info": {
   "name": "python"
  },
  "orig_nbformat": 4
 },
 "nbformat": 4,
 "nbformat_minor": 2
}
