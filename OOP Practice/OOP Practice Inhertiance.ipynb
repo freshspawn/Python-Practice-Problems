{
 "cells": [
  {
   "cell_type": "code",
   "execution_count": 8,
   "metadata": {},
   "outputs": [],
   "source": [
    "class Animal:\n",
    "\n",
    "    def __init__(self):\n",
    "        print(\"Animal Constructor Called\")\n",
    "    def make_sound(self):\n",
    "        pass\n",
    "    def move(self):\n",
    "        pass\n",
    "\n",
    "\n",
    "class Dog(Animal):\n",
    "\n",
    "    def __init__(self,breed,name):\n",
    "        Animal.__init__(self)\n",
    "        self.breed = breed\n",
    "        self.name = name\n",
    "        print(\"Dog Constructor Called\")\n",
    "\n",
    "    def make_sound(self):\n",
    "        print(\"WOOF!\")\n",
    "    def move(self):\n",
    "        print(\"Dog is Running\")\n",
    "\n",
    "\n",
    "class Cat(Animal):\n",
    "    def __init__(self, name):\n",
    "        Animal.__init__(self)\n",
    "        self.name = name\n",
    "        print(\"Cat Constructor Called\")\n",
    "\n",
    "    def make_sound(self):\n",
    "        print(\"Meow.\")\n",
    "    \n",
    "    def move(self):\n",
    "        print(\"Cat is Walking.\")\n",
    "\n",
    "\n",
    "class Bird(Animal):\n",
    "    def __init__(self):\n",
    "        Animal.__init__(self)\n",
    "        print(\"Bird Constructor Called\")\n",
    "    \n",
    "    def make_sound(self):\n",
    "        print(\"Chirp!\")\n",
    "\n",
    "    def move(self):\n",
    "        print(\"Bird is flying.\")"
   ]
  },
  {
   "cell_type": "code",
   "execution_count": 12,
   "metadata": {},
   "outputs": [
    {
     "name": "stdout",
     "output_type": "stream",
     "text": [
      "Animal Constructor Called\n",
      "Dog Constructor Called\n",
      "Animal Constructor Called\n",
      "Cat Constructor Called\n",
      "Animal Constructor Called\n",
      "Bird Constructor Called\n"
     ]
    }
   ],
   "source": [
    "dog1 = Dog(\"Labrador\" , \"Spot\")\n",
    "cat1 = Cat(\"Felix\")\n",
    "bird1 = Bird()"
   ]
  },
  {
   "cell_type": "code",
   "execution_count": 14,
   "metadata": {},
   "outputs": [
    {
     "name": "stdout",
     "output_type": "stream",
     "text": [
      "WOOF!\n",
      "Dog is Running\n",
      "Meow.\n",
      "Cat is Walking.\n",
      "Chirp!\n",
      "Bird is flying.\n"
     ]
    }
   ],
   "source": [
    "\n",
    "\n",
    "animals = [dog1, cat1, bird1]\n",
    "\n",
    "#Showcase polymorphism\n",
    "\n",
    "def make_sound(animal):\n",
    "    animal.make_sound()\n",
    "\n",
    "\n",
    "\n",
    "def move(animal):\n",
    "    animal.move()\n",
    "\n",
    "\n",
    "for animal in animals:\n",
    "    make_sound(animal)\n",
    "    move(animal)\n",
    "\n"
   ]
  }
 ],
 "metadata": {
  "kernelspec": {
   "display_name": "base",
   "language": "python",
   "name": "python3"
  },
  "language_info": {
   "codemirror_mode": {
    "name": "ipython",
    "version": 3
   },
   "file_extension": ".py",
   "mimetype": "text/x-python",
   "name": "python",
   "nbconvert_exporter": "python",
   "pygments_lexer": "ipython3",
   "version": "3.11.4"
  },
  "orig_nbformat": 4
 },
 "nbformat": 4,
 "nbformat_minor": 2
}
